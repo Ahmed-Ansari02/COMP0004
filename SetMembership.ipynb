{
 "cells": [
  {
   "cell_type": "markdown",
   "metadata": {},
   "source": [
    "# Set Membership"
   ]
  },
  {
   "cell_type": "markdown",
   "metadata": {},
   "source": [
    "The cell below defines two **abstract classes**: the first represents a set and basic insert/search operations on it. You will need to impement this API four times, to implement (1) sequential search, (2) binary search tree, (3) balanced search tree, and (4) bloom filter. The second defines the synthetic data generator you will need to implement as part of your experimental framework. <br><br>**Do NOT modify the next cell** - use the dedicated cells further below for your implementation instead. <br>"
   ]
  },
  {
   "cell_type": "code",
   "execution_count": 3,
   "metadata": {},
   "outputs": [],
   "source": [
    "# DO NOT MODIFY THIS CELL\n",
    "\n",
    "from abc import ABC, abstractmethod  \n",
    "\n",
    "# abstract class to represent a set and its insert/search operations\n",
    "class AbstractSet(ABC):\n",
    "    \n",
    "    # constructor\n",
    "    @abstractmethod\n",
    "    def __init__(self):\n",
    "        pass           \n",
    "        \n",
    "    # inserts \"element\" in the set\n",
    "    # returns \"True\" after successful insertion, \"False\" if the element is already in the set\n",
    "    # element : str\n",
    "    # inserted : bool\n",
    "    @abstractmethod\n",
    "    def insertElement(self, element):     \n",
    "        inserted = False\n",
    "        return inserted   \n",
    "    \n",
    "    # checks whether \"element\" is in the set\n",
    "    # returns \"True\" if it is, \"False\" otherwise\n",
    "    # element : str\n",
    "    # found : bool\n",
    "    @abstractmethod\n",
    "    def searchElement(self, element):\n",
    "        found = False\n",
    "        return found    \n",
    "    \n",
    "    \n",
    "    \n",
    "# abstract class to represent a synthetic data generator\n",
    "class AbstractTestDataGenerator(ABC):\n",
    "    \n",
    "    # constructor\n",
    "    @abstractmethod\n",
    "    def __init__(self):\n",
    "        pass           \n",
    "        \n",
    "    # creates and returns a list of length \"size\" of strings\n",
    "    # size : int\n",
    "    # data : list<str>\n",
    "    @abstractmethod\n",
    "    def generateData(self, size):     \n",
    "        data = [\"\"]*size\n",
    "        return data   \n"
   ]
  },
  {
   "cell_type": "markdown",
   "metadata": {},
   "source": [
    "Use the cell below to define any auxiliary data structure and python function you may need. Leave the implementation of the main API to the next code cells instead."
   ]
  },
  {
   "cell_type": "code",
   "execution_count": 28,
   "metadata": {},
   "outputs": [],
   "source": [
    "# ADD AUXILIARY DATA STRUCTURE DEFINITIONS AND HELPER CODE HERE\n",
    "\n",
    "# Bloom filter helper code:\n"
   ]
  },
  {
   "cell_type": "code",
   "execution_count": 29,
   "metadata": {},
   "outputs": [],
   "source": [
    "class Node:\n",
    "    def __init__(self, data=None, next=None):\n",
    "        self.data = data\n",
    "        self.next = next\n",
    "\n",
    "class SequentialSearchSet(AbstractSet):\n",
    "    def __init__(self):\n",
    "        self.head = None\n",
    "\n",
    "    def insertElement(self, element):\n",
    "        node = Node(element, self.head)\n",
    "        self.head = node\n",
    "    \n",
    "    #def insertElement(self, element):\n",
    "        #if self.head is None:\n",
    "            #self.head = Node(element, None)\n",
    "            #return\n",
    "            \n",
    "        \n",
    "        #node = self.head\n",
    "        #while node.next is not None:\n",
    "            #node = node.next\n",
    "        \n",
    "        #node.next = Node(element, None)\n",
    "\n",
    "\n",
    "    def searchElement(self, element):\n",
    "        search_node = self.head\n",
    "        while search_node is not None:\n",
    "            if search_node.data == element:\n",
    "                return True\n",
    "            search_node = search_node.next\n",
    "        return False\n",
    "    \n",
    "    def print(self):\n",
    "        if self.head is None:\n",
    "            print(\"Empty linked list\")\n",
    "            return\n",
    "\n",
    "        node = self.head # Iterator will start at the beginning of the linked list\n",
    "        linked_list_string = '' # Linked list string to print out the list of elements\n",
    "        while node is not None:\n",
    "            linked_list_string += str(node.data) + '-->'\n",
    "            node = node.next # Following the linked list and iterating through elements one by one\n",
    "\n",
    "        print(linked_list_string)\n"
   ]
  },
  {
   "cell_type": "code",
   "execution_count": 30,
   "metadata": {},
   "outputs": [
    {
     "name": "stdout",
     "output_type": "stream",
     "text": [
      "2-->5-->\n"
     ]
    },
    {
     "data": {
      "text/plain": [
       "True"
      ]
     },
     "execution_count": 30,
     "metadata": {},
     "output_type": "execute_result"
    }
   ],
   "source": [
    "linked_list = SequentialSearchSet()\n",
    "linked_list.insertElement(5)\n",
    "linked_list.insertElement(2)\n",
    "linked_list.print()\n",
    "linked_list.searchElement(5)"
   ]
  },
  {
   "cell_type": "markdown",
   "metadata": {},
   "source": [
    "Use the cell below to implement the requested API by means of **sequential search**."
   ]
  },
  {
   "cell_type": "code",
   "execution_count": 31,
   "metadata": {},
   "outputs": [],
   "source": [
    "class SequentialSearchSet(AbstractSet):\n",
    "    \n",
    "    def __init__(self):\n",
    "        self.arr = []\n",
    "        \n",
    "        pass           \n",
    "     \n",
    "    def insertElement(self, element):\n",
    "        inserted = False\n",
    "        self.arr.append(element)\n",
    "        inserted = True\n",
    "      \n",
    "        return inserted\n",
    "    \n",
    "\n",
    "    def searchElement(self, element):     \n",
    "        found = False\n",
    "        for value in self.arr:\n",
    "            if value == element:\n",
    "                found = True\n",
    "        \n",
    "        return found"
   ]
  },
  {
   "cell_type": "code",
   "execution_count": 32,
   "metadata": {},
   "outputs": [
    {
     "name": "stdout",
     "output_type": "stream",
     "text": [
      "[5, 2]\n"
     ]
    },
    {
     "data": {
      "text/plain": [
       "True"
      ]
     },
     "execution_count": 32,
     "metadata": {},
     "output_type": "execute_result"
    }
   ],
   "source": [
    "arrayList = SequentialSearchSet()\n",
    "arrayList.insertElement(5)\n",
    "arrayList.insertElement(2)\n",
    "print(arrayList.arr)\n",
    "arrayList.searchElement(5)"
   ]
  },
  {
   "cell_type": "markdown",
   "metadata": {},
   "source": [
    "Use the cell below to implement the requested API by means of **binary search tree**."
   ]
  },
  {
   "cell_type": "code",
   "execution_count": 33,
   "metadata": {},
   "outputs": [],
   "source": [
    "class BinarySearchTreeSet(AbstractSet):\n",
    "    \n",
    "    def __init__(self):\n",
    "        # ADD YOUR CODE HERE\n",
    "\n",
    "        \n",
    "        pass           \n",
    "     \n",
    "    \n",
    "        \n",
    "    def insertElement(self, element):\n",
    "        inserted = False\n",
    "        # ADD YOUR CODE HERE\n",
    "      \n",
    "        \n",
    "        return inserted\n",
    "    \n",
    "    \n",
    "\n",
    "    def searchElement(self, element):     \n",
    "        found = False\n",
    "        # ADD YOUR CODE HERE\n",
    "\n",
    "        \n",
    "        return found    "
   ]
  },
  {
   "cell_type": "markdown",
   "metadata": {},
   "source": [
    "Use the cell below to implement the requested API by means of **balanced search tree**."
   ]
  },
  {
   "cell_type": "code",
   "execution_count": 34,
   "metadata": {},
   "outputs": [],
   "source": [
    "class BalancedSearchTreeSet(AbstractSet):\n",
    "    \n",
    "    def __init__(self):\n",
    "        # ADD YOUR CODE HERE\n",
    "\n",
    "        \n",
    "        pass           \n",
    "     \n",
    "    \n",
    "        \n",
    "    def insertElement(self, element):\n",
    "        inserted = False\n",
    "        # ADD YOUR CODE HERE\n",
    "      \n",
    "        \n",
    "        return inserted\n",
    "    \n",
    "    \n",
    "\n",
    "    def searchElement(self, element):     \n",
    "        found = False\n",
    "        # ADD YOUR CODE HERE\n",
    "\n",
    "        \n",
    "        return found    "
   ]
  },
  {
   "cell_type": "markdown",
   "metadata": {},
   "source": [
    "Use the cell below to implement the requested API by means of **bloom filter**."
   ]
  },
  {
   "cell_type": "code",
   "execution_count": 4,
   "metadata": {},
   "outputs": [],
   "source": [
    "class BloomFilterSet(AbstractSet):\n",
    "    \n",
    "    def __init__(self):\n",
    "        # ADD YOUR CODE HERE\n",
    "        self.size = 9161520\n",
    "        self.hash_count = 6\n",
    "        self.bit_array = [0] * self.size\n",
    "        self.hash_functions = self.generate_hash_functions()\n",
    "    \n",
    "    def generate_hash_functions(self): # Code to generate a list of unique hash functions\n",
    "            hash_fuctions = []\n",
    "            for i in range(1,self.hash_count+1):\n",
    "                hash_fuctions.append(self.generate_hash_function(i))\n",
    "            return hash_fuctions\n",
    "    \n",
    "    def generate_hash_function(self,seed): # Code to generate a unique hash function based on an inputed seed value\n",
    "        def hash_function(value):\n",
    "            return hash(value + str(seed)) % self.size\n",
    "        return hash_function\n",
    "        \n",
    "    def insertElement(self, element):\n",
    "        inserted = False\n",
    "        # ADD YOUR CODE HERE\n",
    "        for hash_function in self.hash_functions:\n",
    "            self.bit_array[hash_function(element)] = 1\n",
    "        inserted = True\n",
    "        \n",
    "        return inserted\n",
    "\n",
    "    def searchElement(self, element):     \n",
    "        found = False\n",
    "        # ADD YOUR CODE HERE\n",
    "        for hash_function in self.hash_functions:\n",
    "            if self.bit_array[hash_function(element)] == 0:\n",
    "                return found\n",
    "        found = True\n",
    "        return found    "
   ]
  },
  {
   "cell_type": "markdown",
   "metadata": {},
   "source": [
    "Use the cell below to implement the **synthetic data generator** as part of your experimental framework."
   ]
  },
  {
   "cell_type": "code",
   "execution_count": 46,
   "metadata": {},
   "outputs": [
    {
     "name": "stdout",
     "output_type": "stream",
     "text": [
      "YhPJYVRQeXzXgdrl41Z2\n",
      "JNWxXaZrbw596dL25sRA\n",
      "n9laG7WZN8p4H7Hnn2GH\n",
      "UFIOBbldIP2oizSjYc67\n",
      "wtKZJJNs4WBsukMAZFvh\n",
      "BUcqpRBKlXN0xLbOIbUY\n",
      "FCM1bjZvAb5B5HbtjqDR\n",
      "ZR6X7ktcBMe2SBckl82d\n",
      "aOS35yUHPOJQxgA2LkLz\n",
      "bPKn4tT5vyqhwXtJmhqA\n"
     ]
    }
   ],
   "source": [
    "import string\n",
    "import random\n",
    "\n",
    "class TestDataGenerator(AbstractTestDataGenerator):\n",
    "    \n",
    "    def __init__(self, length, lower=True, upper=True, digits=True, punctuation=False):\n",
    "        self.length = length\n",
    "        self.lower = lower\n",
    "        self.upper = upper\n",
    "        self.digits = digits\n",
    "        self.punctuation = punctuation\n",
    "\n",
    "    def getCharacters(self):\n",
    "        character = ''\n",
    "        if self.lower:\n",
    "            character += string.ascii_lowercase\n",
    "        if self.upper:\n",
    "            character += string.ascii_uppercase\n",
    "        if self.digits:\n",
    "            character += string.digits\n",
    "        if self.punctuation:\n",
    "            character += string.punctuation\n",
    "\n",
    "        return character\n",
    "\n",
    "        \n",
    "    def generateData(self, size):     \n",
    "        data = [\"\"] * size\n",
    "        characters = self.getCharacters()\n",
    "\n",
    "\n",
    "        for i in range(size):\n",
    "            random_character = ''.join(random.choice(characters) for _ in range(self.length))\n",
    "            data[i] = random_character\n",
    "    \n",
    "           \n",
    "        for value in data:\n",
    "            print(value)\n",
    "    \n",
    "\n",
    "test = TestDataGenerator(20)\n",
    "test.generateData(10)\n",
    "\n"
   ]
  },
  {
   "cell_type": "markdown",
   "metadata": {},
   "source": [
    "Use the cells below for the python code needed to **fully evaluate your implementations**, first on real data and subsequently on synthetic data (i.e., read data from test files / generate synthetic one, instantiate each of the 4 set implementations in turn, then thorouhgly experiment with insert/search operations and measure their performance)."
   ]
  },
  {
   "cell_type": "code",
   "execution_count": 37,
   "metadata": {},
   "outputs": [],
   "source": [
    "import timeit\n",
    "\n",
    "# ADD YOUR TEST CODE HERE TO WORK ON REAL DATA\n",
    "\n",
    "\n",
    "\n"
   ]
  },
  {
   "cell_type": "code",
   "execution_count": 38,
   "metadata": {},
   "outputs": [],
   "source": [
    "import timeit\n",
    "\n",
    "# ADD YOUR TEST CODE HERE TO WORK ON SYNTHETIC DATA\n",
    "\n",
    "\n",
    "\n"
   ]
  }
 ],
 "metadata": {
  "kernelspec": {
   "display_name": "Python 3",
   "language": "python",
   "name": "python3"
  },
  "language_info": {
   "codemirror_mode": {
    "name": "ipython",
    "version": 3
   },
   "file_extension": ".py",
   "mimetype": "text/x-python",
   "name": "python",
   "nbconvert_exporter": "python",
   "pygments_lexer": "ipython3",
   "version": "3.10.9"
  },
  "vscode": {
   "interpreter": {
    "hash": "b0fa6594d8f4cbf19f97940f81e996739fb7646882a419484c72d19e05852a7e"
   }
  }
 },
 "nbformat": 4,
 "nbformat_minor": 4
}
